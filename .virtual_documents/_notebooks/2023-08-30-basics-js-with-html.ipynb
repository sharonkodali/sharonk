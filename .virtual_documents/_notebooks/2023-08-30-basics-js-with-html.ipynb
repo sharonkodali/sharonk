











%%html
<!-- the ID must be specified on the element -->
<h1 id="title1">My Title</h1>

<!-- our javascript goe here -->
<script>
var titleElement = document.getElementById("title1")
console.log("Example #1")
console.log(titleElement)
</script>





%%html
<!-- the ID must be specified on the element -->
<h1 id="title2">My Title</h1>

<!-- our javascript goe here -->
<script>
var titleElement = document.getElementById("title2")
console.log("Example #2")
console.log(titleElement.innerHTML)
</script>





%%html
<!-- the ID must be specified on the element -->
<h1 id="title3">My Title</h1>

<!-- our javascript goe here -->
<script>
var titleElement = document.getElementById("title3")
titleElement.innerHTML = "A better title"
</script>








%%html
<!-- the ID must be specified on the element -->
<div id="container1">
    <h1 id="title10">My Title</h1>
</div>

<!-- our javascript goe here -->
<script>
   // creates a new element
   var pElement = document.createElement("p")
   pElement.innerHTML = "some text"
</script>








%%html
<!-- the ID must be specified on the element -->
<div id="container2">
    <h1 id="title11">My Title</h1>
</div>

<!-- our javascript goe here -->
<script>
   // creates a new element
   var pElement = document.createElement("p")
   pElement.innerHTML = "some text"

   // place the p element in the webpage
   var div = document.getElementById("container2")
   div.appendChild(pElement)
</script>





%%html
<!-- the ID must be specified on the element -->
<div id="container5">
    <h1 id="title15">My Title</h1>
</div>

<!-- our javascript goe here -->
<script>
    // create a function => takes in text, returns created p
    function createPTag(text) {
        // creates a new element
        var pElement = document.createElement("p")

        // using the parameter like a variable
        pElement.innerHTML = text

        return pElement;
    }

    // using our new function
    var pTag = createPTag("cooler text")

    // place the p element in the webpage
    var div = document.getElementById("container5")
    div.appendChild(pTag)
</script>





%%html
<!-- the ID must be specified on the elements -->
<button id="myButton">Click here!</button>

<div id="myContainer">
    <h1 id="myTitle">My Title</h1>
</div>

<!-- our javascript goe here -->
<script>
    // create a function => takes in text, returns created p
    function createPTag(text) {
        // creates a new element
        var pElement = document.createElement("p")

        // using the parameter like a variable
        pElement.innerHTML = text

        return pElement;
    }

    // create a function that sets specific text and adds to div
    function addCoolPTag() {
        // using our new function
        var pTag = createPTag("cooler text")

        // place the p element in the webpage
        var div = document.getElementById("myContainer")

        // add p tag to the div
        div.appendChild(pTag)
    }

    // add the P tag when our button is clicked
    var myButton = document.getElementById("myButton")

    // using the onclick variable of the button
    // functions can be used as values for these variables
    myButton.onclick = addCoolPTag
</script>





%%html
   <style>
        button {
            background-color: #4E804F;
            color: white;
            padding: 10px 20px;
            border: none;
            cursor: pointer;
        }
        button:hover {
            background-color: darkgreen;
        }
        a {
            color: white;
            text-decoration: none;
        }
        a:hover {
            color: #D1D9CE;
        }
        /* Additional styles for better presentation */
        div {
            margin: 20px;
        }
        .top {
            background-color: #4E804F;
            padding: 10px 0;
            text-align: center;
        }
        .top a {
            margin: 0 20px;
        }
        h1 {
            text-align: center;
        }
    </style>
</head>
<body>
    <header>
        <h1>☆ Online Grocery Store! ☆</h1>
    </header>
    <nav class=“top”>
        <a href=“/”>☆ Home</a>
        <a href=“/fruits”>☆ Fruits</a>
        <a href=“/vegetables”>☆ Vegetables</a>
        <a href=“/dairy”>☆ Dairy</a>
    </nav>
    <section>
        <h2>Shop Now</h2>
        <p>Explore a wide variety of fresh and delicious groceries.</p>
        <button>Start Shopping</button>
    </section>
    <section>
        <h2>Our Products</h2>
        <p>Discover the finest selection of fruits, vegetables, and dairy products.</p>
        <a href=“/fruits”>Fruits</a>
        <a href=“/vegetables”>Vegetables</a>
        <a href=“/dairy”>Dairy</a>
    </section>
</body>
</html>
<script>
    // Function to switch the links and change the text
    function switchLinks() {
      // Get the two <a> elements
      const link1 = document.querySelector('.top a:nth-child(2)');
      const link2 = document.querySelector('.top a:nth-child(3)');
  
      // Switch the href attributes
      const tempHref = link1.getAttribute('href');
      link1.setAttribute('href', link2.getAttribute('href'));
      link2.setAttribute('href', tempHref);
  
      // Change the inner HTML of the top <p> tag
      const topParagraph = document.querySelector('.top p');
      topParagraph.innerHTML = 'Switched!';
    }
  
    // Add an event listener to the button
    const button = document.querySelector('button');
    button.addEventListener('click', switchLinks);
  </script>
  
