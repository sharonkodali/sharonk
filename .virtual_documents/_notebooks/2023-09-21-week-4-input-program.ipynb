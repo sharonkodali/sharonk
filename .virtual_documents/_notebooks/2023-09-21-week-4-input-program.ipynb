





#ask the user their age, store using the variable 'name'
name=input('What is your name? ')

#display the name or input for the user to see as a greeting
print('Hello '+ name + '!!')



