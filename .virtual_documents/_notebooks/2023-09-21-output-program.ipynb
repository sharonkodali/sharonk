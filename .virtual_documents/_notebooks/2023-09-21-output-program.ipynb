





#ask user for their original temperature in farenheit 
#use  'int' to store a numerical value
f=int(input('what is your temperatire in farenheit? '))
#convert farnheit to celcius using mathematical operation
#equation is Temperature(°C) = (Temperature in°F) - 32) × 5/9
c=(f-32)*(5/9)
#print output to user
print('this is your temperature in celcius ',c)

#celcius to farenheit conversion
m=int(input('what is your temperature in celcius? '))
n=(m*(9/5)+32)
print('this is your temperature in farenheit ',n)



