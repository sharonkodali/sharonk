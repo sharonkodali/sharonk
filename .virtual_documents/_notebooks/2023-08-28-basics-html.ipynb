























%%html
   <style>
        button {
            background-color: #4E804F;
            color: white;
            padding: 10px 20px;
            border: none;
            cursor: pointer;
        }
        button:hover {
            background-color: darkgreen;
        }
        a {
            color: white;
            text-decoration: none;
        }
        a:hover {
            color: #D1D9CE;
        }
        /* Additional styles for better presentation */
        div {
            margin: 20px;
        }
        .top {
            background-color: #4E804F;
            padding: 10px 0;
            text-align: center;
        }
        .top a {
            margin: 0 20px;
        }
        h1 {
            text-align: center;
        }
    </style>
</head>
<body>
    <header>
        <h1>☆ Online Grocery Store! ☆</h1>
    </header>
    <nav class=“top”>
        <a href=“/”>☆ Home</a>
        <a href=“/fruits”>☆ Fruits</a>
        <a href=“/vegetables”>☆ Vegetables</a>
        <a href=“/dairy”>☆ Dairy</a>
    </nav>
    <section>
        <h2>Shop Now</h2>
        <p>Explore a wide variety of fresh and delicious groceries.</p>
        <button>Start Shopping</button>
    </section>
    <section>
        <h2>Our Products</h2>
        <p>Discover the finest selection of fruits, vegetables, and dairy products.</p>
        <a href=“/fruits”>Fruits</a>
        <a href=“/vegetables”>Vegetables</a>
        <a href=“/dairy”>Dairy</a>
    </section>
</body>
</html>
