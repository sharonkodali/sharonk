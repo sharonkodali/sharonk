{
 "cells": [
  {
   "cell_type": "markdown",
   "metadata": {},
   "source": [
    "---\n",
    "comments: true\n",
    "layout: post\n",
    "title: grocery store team managment\n",
    "description: team teach 3.1 and 3.2\n",
    "type: plans\n",
    "courses: { compsci: {week: 8} }\n",
    "---"
   ]
  },
  {
   "cell_type": "markdown",
   "metadata": {},
   "source": [
    "# roles \n",
    "- Sharon: Team lead and frontend developer\n",
    "    - organize the deadlines and hold everyone accountable \n",
    "    - assign roles and responsibilities to each member and make sure everyone is doing their job\n",
    "    - run the meetings and lead discussion\n",
    "    - work on frontend designs\n",
    "\n",
    "- Tara:Backend leader\n",
    "    - organize backend responsibilities and assign roles to the member \n",
    "    - work on the algorithms and making sure backend team is productive \n",
    "\n",
    "- Alisha: Frontend lead\n",
    "    - assign and take responsibility for frontend designs \n",
    "    - organize frontend and be ready to present progress every meeting \n",
    "\n",
    "\n",
    "- Alara: Backend developer\n",
    "    - collaborate with group and use different languages to get backend running\n",
    "\n",
    "- Grace: Backend developer\n",
    "    - work on backend and report to lead"
   ]
  },
  {
   "cell_type": "markdown",
   "metadata": {},
   "source": [
    "# collaboration\n",
    "\n",
    "- daily meeting where progress is reported to the team lead and make sure everyone has got their work done\n",
    "- assign work in meeting to every worker and this is also where we will collaborate and talk about issues we are facing \n",
    "- make sure to check slack messages regularly \n",
    "- teacher will be notified if anyone is slacking off \n",
    "- thoroughly finish your tasks and we will set deadlines "
   ]
  }
 ],
 "metadata": {
  "language_info": {
   "name": "python"
  },
  "orig_nbformat": 4
 },
 "nbformat": 4,
 "nbformat_minor": 2
}
