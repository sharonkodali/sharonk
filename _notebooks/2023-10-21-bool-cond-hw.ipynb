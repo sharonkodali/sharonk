{
 "cells": [
  {
   "cell_type": "markdown",
   "metadata": {},
   "source": [
    "---\n",
    "comments: true\n",
    "layout: post\n",
    "title: Boolean and Condition Homework\n",
    "type: hacks\n",
    "courses: { compsci: {week: 8} }\n",
    "---"
   ]
  },
  {
   "cell_type": "markdown",
   "metadata": {},
   "source": [
    "Questionn 1. Write a Python program that uses boolean logic to determine if a user is eligible to vote. The criteria for eligibility is that the user must be a citizen and must be 18 or older. Include comments in your code to explain each part of the program."
   ]
  },
  {
   "cell_type": "code",
   "execution_count": 1,
   "metadata": {},
   "outputs": [
    {
     "name": "stdout",
     "output_type": "stream",
     "text": [
      "You are eligible to vote.\n"
     ]
    }
   ],
   "source": [
    "# Get user's age and citizenship status as input\n",
    "age = int(input(\"Enter your age: \"))\n",
    "is_citizen = input(\"Are you a citizen? (yes/no): \").lower()\n",
    "\n",
    "# Check if the user is both a citizen and 18 or older\n",
    "is_eligible = is_citizen == \"yes\" and age >= 18\n",
    "\n",
    "# Check the eligibility and provide a response\n",
    "if is_eligible:\n",
    "    print(\"You are eligible to vote.\")\n",
    "else:\n",
    "    print(\"You are not eligible to vote.\")\n"
   ]
  },
  {
   "cell_type": "markdown",
   "metadata": {},
   "source": [
    "Question 2\n",
    "A company decided to give bonus of 5% to employee if his/her year of service is more than 5 years. Ask user for their salary and year of service and print the net bonus amount."
   ]
  },
  {
   "cell_type": "code",
   "execution_count": 5,
   "metadata": {},
   "outputs": [
    {
     "name": "stdout",
     "output_type": "stream",
     "text": [
      "You are eligible for a 5% bonus of $3400.00.\n",
      "Net bonus amount: $3400.00\n"
     ]
    }
   ],
   "source": [
    "years = int(input(\"How many years hae you worked at our company\"))\n",
    "salary = float(input('What is your salary'))\n",
    "\n",
    "bonus_percent = 5\n",
    "\n",
    "if years > 5:\n",
    "    bonus_amt = (bonus_percent/100) * salary\n",
    "    print(f\"You are eligible for a {bonus_percent}% bonus of ${bonus_amt:.2f}.\")\n",
    "else:\n",
    "    print('youre not eligable for a bonus')\n",
    "\n",
    "if years > 5:\n",
    "    net_bonus_amount = bonus_amt\n",
    "else:\n",
    "    net_bonus_amount = 0\n",
    "\n",
    "print(f\"Net bonus amount: ${net_bonus_amount:.2f}\")"
   ]
  },
  {
   "cell_type": "markdown",
   "metadata": {},
   "source": [
    "Question 3. A school has following rules for grading system:\n",
    "a. Below 25 - F b. 25 to 45 - E c. 45 to 50 - D d. 50 to 60 - C e. 60 to 80 - B f. Above 80 - A Ask user to enter marks and print the corresponding grade."
   ]
  },
  {
   "cell_type": "code",
   "execution_count": 7,
   "metadata": {},
   "outputs": [
    {
     "name": "stdout",
     "output_type": "stream",
     "text": [
      "Your grade is: C\n"
     ]
    }
   ],
   "source": [
    "# Get user input for marks\n",
    "marks = float(input(\"Enter your marks: \"))\n",
    "\n",
    "# Define the grading system rules\n",
    "if marks < 25:\n",
    "    grade = \"F\"\n",
    "elif 25 <= marks < 45:\n",
    "    grade = \"E\"\n",
    "elif 45 <= marks < 50:\n",
    "    grade = \"D\"\n",
    "elif 50 <= marks < 60:\n",
    "    grade = \"C\"\n",
    "elif 60 <= marks < 80:\n",
    "    grade = \"B\"\n",
    "else:\n",
    "    grade = \"A\"\n",
    "\n",
    "# Print the corresponding grade\n",
    "print(f\"Your grade is: {grade}\")\n"
   ]
  }
 ],
 "metadata": {
  "kernelspec": {
   "display_name": "Python 3",
   "language": "python",
   "name": "python3"
  },
  "language_info": {
   "codemirror_mode": {
    "name": "ipython",
    "version": 3
   },
   "file_extension": ".py",
   "mimetype": "text/x-python",
   "name": "python",
   "nbconvert_exporter": "python",
   "pygments_lexer": "ipython3",
   "version": "3.11.4"
  },
  "orig_nbformat": 4
 },
 "nbformat": 4,
 "nbformat_minor": 2
}
