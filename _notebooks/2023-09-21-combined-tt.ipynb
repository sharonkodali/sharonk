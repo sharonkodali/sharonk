{
 "cells": [
  {
   "cell_type": "markdown",
   "metadata": {},
   "source": [
    "---\n",
    "comments: true\n",
    "layout: post\n",
    "title: Combined team test\n",
    "description: team test 1\n",
    "type: tangibles\n",
    "courses: { compsci: {week: 5} }\n",
    "---"
   ]
  },
  {
   "cell_type": "markdown",
   "metadata": {},
   "source": [
    "# program with input-sharon\n",
    "\n",
    "peer review: \n",
    "- could have made the program more complex and used multiple variables\n",
    "- can include error message if invalid input is entered\n",
    "- Maybe include some sort of greeting message \n",
    "\n"
   ]
  },
  {
   "cell_type": "code",
   "execution_count": 2,
   "metadata": {},
   "outputs": [
    {
     "name": "stdout",
     "output_type": "stream",
     "text": [
      "Hello sharon!!\n"
     ]
    }
   ],
   "source": [
    "#ask the user their age, store using the variable 'name'\n",
    "name=input('What is your name? ')\n",
    "\n",
    "#display the name or input for the user to see as a greeting\n",
    "print('Hello '+ name + '!!')"
   ]
  },
  {
   "cell_type": "markdown",
   "metadata": {},
   "source": [
    "# program with input and output- sharon\n",
    "chatgpt review: \n",
    "- Variable Names: Your variable names f, c, m, and n are quite concise, which can be good for small scripts, but it's generally a good practice to use more descriptive variable names to improve code readability. For example, you can use fahrenheit_input, celsius_input, celsius_output, and fahrenheit_output for more clarity.\n",
    "\n",
    "- Error Handling: Your code assumes that the user will input valid numerical values for temperatures. It's a good practice to include error handling in case the user enters something that's not a number.\n",
    "\n",
    "- Formatting: You might want to consider formatting the output to provide a more user-friendly result. For example, you can round the temperature values to a certain number of decimal places.\n",
    "\n"
   ]
  },
  {
   "cell_type": "code",
   "execution_count": 3,
   "metadata": {},
   "outputs": [
    {
     "name": "stdout",
     "output_type": "stream",
     "text": [
      "this is your temperature in celcius  20.0\n",
      "this is your temperature in farenheit  89.6\n"
     ]
    }
   ],
   "source": [
    "#ask user for their original temperature in farenheit \n",
    "#use  'int' to store a numerical value\n",
    "f=int(input('what is your temperatire in farenheit? '))\n",
    "#convert farnheit to celcius using mathematical operation\n",
    "#equation is Temperature(°C) = (Temperature in°F) - 32) × 5/9\n",
    "c=(f-32)*(5/9)\n",
    "#print output to user\n",
    "print('this is your temperature in celcius ',c)\n",
    "\n",
    "#celcius to farenheit conversion\n",
    "m=int(input('what is your temperature in celcius? '))\n",
    "n=(m*(9/5)+32)\n",
    "print('this is your temperature in farenheit ',n)"
   ]
  },
  {
   "cell_type": "markdown",
   "metadata": {},
   "source": [
    "# Program with a list- alara \n",
    "\n",
    "chatgpt/peer review:\n",
    "- \n",
    "The code you've provided is well-structured and accomplishes its intended tasks clearly. It demonstrates two different examples: one involving a list of random numbers and basic operations like sum, maximum, and minimum calculations, and the other involving iteration using a for loop to square numbers and calculate their sum.\n",
    "\n",
    "Here are some points to consider:\n",
    "\n",
    "Comments and Documentation: Your code includes comments that explain each step and its purpose. This is excellent for clarity and understanding. It's always a good practice to provide clear documentation in your code.\n",
    "\n",
    "Code Reusability: In the first example, you use list comprehension to generate a list of random numbers. This is a concise and efficient way to create the list. However, in a real program, you might want to consider making this code more modular by placing it in a function so that you can easily generate random lists of numbers whenever needed.\n",
    "\n",
    "Variable Names: Variable names like numbers, sum_of_numbers, max_number, and min_number are descriptive and clear. In the second example, squared_numbers and sum_of_squared_numbers also have meaningful names. Good variable naming contributes to code readability.\n",
    "\n",
    "Efficiency: The second example calculates the sum of squared numbers using a loop. While this is fine for a small list like the one in your example, for larger datasets, you might consider using built-in functions like sum() to improve efficiency and readability:"
   ]
  },
  {
   "cell_type": "code",
   "execution_count": 7,
   "metadata": {},
   "outputs": [
    {
     "name": "stdout",
     "output_type": "stream",
     "text": [
      "List of Numbers: [66, 13, 38, 3, 61, 56, 16, 31, 76, 79]\n",
      "Sum of Numbers: 439\n",
      "Maximum Number: 79\n",
      "Minimum Number: 3\n"
     ]
    }
   ],
   "source": [
    "# Program Function and Purpose\n",
    "## Program With a List\n",
    "# Importing necessary libraries (optional for this example)\n",
    "import random\n",
    "# Step 1: Create a list of numbers\n",
    "numbers = [random.randint(1, 100) for _ in range(10)]\n",
    "## Step 2: Display the list\n",
    "print(\"List of Numbers:\", numbers)\n",
    "# Step 3: Calculate the sum of the numbers\n",
    "sum_of_numbers = sum(numbers)\n",
    "print(\"Sum of Numbers:\", sum_of_numbers)\n",
    "# Step 4: Find the maximum and minimum numbers in the list\n",
    "max_number = max(numbers)\n",
    "min_number = min(numbers)\n",
    "print(\"Maximum Number:\", max_number)\n",
    "print(\"Minimum Number:\", min_number)\n",
    "## This example demonstrates the creation of a program with a list of random numbers and performs basic operations like displaying the list, calculating the sum, and finding the maximum and minimum numbers in the list.\n"
   ]
  },
  {
   "cell_type": "markdown",
   "metadata": {},
   "source": [
    "# program with a dictionary-alisha \n",
    "\n",
    "chatgpt/peer review \n",
    "\n",
    "- Code Repetition: You've repeated the same dictionary entries multiple times for words like \"chemistry,\" \"biology,\" \"history,\" etc. This repetition is unnecessary and makes the code longer and harder to maintain. You should have each word defined only once.\n",
    "\n",
    "- Dictionary Size: The dictionary is extensive, which is great for demonstration purposes, but it can make the code quite long. For practical use, you might want to consider having a smaller dictionary or loading word meanings from an external data source like a file or an API.\n",
    "\n",
    "- Error Handling: Your lookup_word function handles the case when a word is not found in the dictionary, which is good. However, you might want to provide more user-friendly feedback in this case, such as suggesting similar words or asking if the user meant something else.\n",
    "\n",
    "- Whitespace Stripping: You've added .strip() to remove leading and trailing whitespace from user input. This is a good practice to handle user input more gracefully.\n",
    "\n",
    "- Repetition in Code Comments: There's a significant amount of repetition in the code comments. You've copied the same comments for several entries in the dictionary. While commenting is essential for understanding code, it's best to keep comments concise and avoid repetition.\n",
    "\n",
    "- User Experience: It might be helpful to provide instructions to the user on how to use the dictionary or to clarify that the search is not case-sensitive (you've converted user input to lowercase).\n",
    "\n"
   ]
  },
  {
   "cell_type": "code",
   "execution_count": 6,
   "metadata": {},
   "outputs": [
    {
     "name": "stdout",
     "output_type": "stream",
     "text": [
      "\n",
      "Interactive Dictionary\n",
      "Enter a word to look up its meaning (type 'exit' to quit):\n",
      "Meaning: a colorless, odorless, highly flammable gas\n",
      "\n",
      "Interactive Dictionary\n",
      "Enter a word to look up its meaning (type 'exit' to quit):\n",
      "Meaning: freedom from disturbance; tranquility\n",
      "\n",
      "Interactive Dictionary\n",
      "Enter a word to look up its meaning (type 'exit' to quit):\n",
      "Meaning: a small domesticated carnivorous mammal\n",
      "\n",
      "Interactive Dictionary\n",
      "Enter a word to look up its meaning (type 'exit' to quit):\n",
      "Meaning: a high-level programming language\n",
      "\n",
      "Interactive Dictionary\n",
      "Enter a word to look up its meaning (type 'exit' to quit):\n",
      "Thanks for using this, bye!\n"
     ]
    }
   ],
   "source": [
    "\n",
    "# Create a dictionary of words and their meanings\n",
    "dictionary = {\n",
    "    \"apple\": \"a fruit that grows on trees and is typically red or green\",\n",
    "    \"car\": \"a four-wheeled motor vehicle used for transportation\",\n",
    "    \"computer\": \"an electronic device that processes and stores data\",\n",
    "    \"dog\": \"a domesticated mammal often kept as a pet\",\n",
    "    \"python\": \"a high-level programming language\",\n",
    "    \"cat\": \"a small domesticated carnivorous mammal\",\n",
    "    \"book\": \"a written or printed work consisting of pages glued or sewn together along one side\",\n",
    "    \"house\": \"a building for human habitation\",\n",
    "    \"music\": \"vocal or instrumental sounds (or both) combined in such a way as to produce beauty of form, harmony, and expression of emotion\",\n",
    "    \"friend\": \"a person whom one knows and with whom one has a bond of mutual affection\",\n",
    "    \"beach\": \"a pebbly or sandy shore, especially by the ocean between high- and low-water marks\",\n",
    "    \"sun\": \"the star around which the earth orbits\",\n",
    "    \"moon\": \"the natural satellite of the earth, visible (chiefly at night) by reflected light from the sun\",\n",
    "    \"flower\": \"the seed-bearing part of a plant, consisting of reproductive organs (stamens and carpels) that are typically surrounded by a brightly colored corolla\",\n",
    "    \"bicycle\": \"a vehicle with two wheels that is propelled by pedals and steered with handlebars\",\n",
    "    \"ocean\": \"a very large expanse of sea, in particular, each of the main areas into which the sea is divided geographically\",\n",
    "    \"bookstore\": \"a store where books are sold\",\n",
    "    \"school\": \"an institution for educating children\",\n",
    "    \"teacher\": \"a person who teaches, especially in a school\",\n",
    "    \"student\": \"a person who is studying at a school or college\",\n",
    "    \"restaurant\": \"a place where people pay to sit and eat meals that are cooked and served on the premises\",\n",
    "    \"movie\": \"a story or event recorded by a camera as a set of moving images and shown in a theater or on television; a motion picture\",\n",
    "    \"guitar\": \"a stringed musical instrument with a fretted fingerboard, typically incurved sides, and six or twelve strings\",\n",
    "    \"computer science\": \"the study of computers and computing technologies\",\n",
    "    \"football\": \"a ball used in football, either oval (as in American football) or round (as in soccer), typically made of leather or plastic and filled with compressed air\",\n",
    "    \"pizza\": \"a dish of Italian origin consisting of a flat, round base of dough baked with a topping of tomato sauce and cheese, typically with added meat or vegetables\",\n",
    "    \"space\": \"a continuous area or expanse that is free, available, or unoccupied\",\n",
    "    \"universe\": \"all existing matter, space, and time considered as a whole; the cosmos\",\n",
    "    \"tree\": \"a woody perennial plant, typically having a single stem or trunk growing to a considerable height and bearing lateral branches at some distance from the ground\",\n",
    "    \"happiness\": \"the state of being happy\",\n",
    "    \"sadness\": \"the quality of being sad; sorrow\",\n",
    "    \"love\": \"an intense feeling of deep affection\",\n",
    "    \"hate\": \"feel intense or passionate dislike for someone\",\n",
    "    \"freedom\": \"the power or right to act, speak, or think as one wants without hindrance or restraint\",\n",
    "    \"government\": \"the governing body of a nation, state, or community\",\n",
    "    \"oxygen\": \"a chemical element with the symbol O and atomic number 8\",\n",
    "    \"hydrogen\": \"a colorless, odorless, highly flammable gas\",\n",
    "    \"education\": \"the process of receiving or giving systematic instruction, especially at a school or university\",\n",
    "    \"library\": \"a building or room containing collections of books, periodicals, and sometimes films and recorded music for use or borrowing by the public or the members of an institution\",\n",
    "    \"movie theater\": \"a place where movies are shown to an audience on a big screen\",\n",
    "    \"beauty\": \"a combination of qualities, such as shape, color, or form, that pleases the aesthetic senses, especially the sight\",\n",
    "    \"friendship\": \"the emotions or conduct of friends; the state of being friends\",\n",
    "    \"laughter\": \"the action or sound of laughing\",\n",
    "    \"peace\": \"freedom from disturbance; tranquility\",\n",
    "    \"war\": \"a state of armed conflict between different nations or states or different groups within a nation or state\",\n",
    "    \"oceanography\": \"the branch of science that deals with the physical and biological properties and phenomena of the sea\",\n",
    "    \"chemistry\": \"the branch of science that deals with the identification of the substances of which matter is composed; the investigation of their properties and the ways in which they interact, combine, and change; and the use of these processes to form new substances\",\n",
    "    \"biology\": \"the scientific study of living organisms and their interactions with each other and their environments\",\n",
    "    \"history\": \"the study of past events, particularly in human affairs\",\n",
    "    \"geography\": \"the study of the physical features of the earth and its atmosphere, and of human activity as it affects and is affected by these, including the distribution of populations and resources, land use, and industries\",\n",
    "    \"physics\": \"the branch of science concerned with the nature and properties of matter and energy\",\n",
    "    \"astronomy\": \"the branch of science that deals with celestial objects, space, and the physical universe as a whole\",\n",
    "    \"mathematics\": \"the abstract science of number, quantity, and space, either as abstract concepts (pure mathematics), or as applied to other disciplines such as physics and engineering (applied mathematics)\",\n",
    "    \"chemistry\": \"the branch of science that deals with the identification of the substances of which matter is composed; the investigation of their properties and the ways in which they interact, combine, and change; and the use of these processes to form new substances\",\n",
    "    \"biology\": \"the scientific study of living organisms and their interactions with each other and their environments\",\n",
    "    \"history\": \"the study of past events, particularly in human affairs\",\n",
    "    \"geography\": \"the study of the physical features of the earth and its atmosphere, and of human activity as it affects and is affected by these, including the distribution of populations and resources, land use, and industries\",\n",
    "    \"physics\": \"the branch of science concerned with the nature and properties of matter and energy\",\n",
    "    \"astronomy\": \"the branch of science that deals with celestial objects, space, and the physical universe as a whole\",\n",
    "    \"mathematics\": \"the abstract science of number, quantity, and space, either as abstract concepts (pure mathematics), or as applied to other disciplines such as physics and engineering (applied mathematics)\",\n",
    "    \"chemistry\": \"the branch of science that deals with the identification of the substances of which matter is composed; the investigation of their properties and the ways in which they interact, combine, and change; and the use of these processes to form new substances\",\n",
    "    \"biology\": \"the scientific study of living organisms and their interactions with each other and their environments\",\n",
    "    \"history\": \"the study of past events, particularly in human affairs\",\n",
    "    \"geography\": \"the study of the physical features of the earth and its atmosphere, and of human activity as it affects and is affected by these, including the distribution of populations and resources, land use, and industries\",\n",
    "    \"physics\": \"the branch of science concerned with the nature and properties of matter and energy\",\n",
    "    \"astronomy\": \"the branch of science that deals with celestial objects, space, and the physical universe as a whole\",\n",
    "    \"mathematics\": \"the abstract science of number, quantity, and space, either as abstract concepts (pure mathematics), or as applied to other disciplines such as physics and engineering (applied mathematics)\",\n",
    "    \"chemistry\": \"the branch of science that deals with the identification of the substances of which matter is composed; the investigation of their properties and the ways in which they interact, combine, and change; and the use of these processes to form new substances\",\n",
    "    \"biology\": \"the scientific study of living organisms and their interactions with each other and their environments\",\n",
    "    \"history\": \"the study of past events, particularly in human affairs\",\n",
    "    \"geography\": \"the study of the physical features of the earth and its atmosphere, and of human activity as it affects and is affected by these, including the distribution of populations and resources, land use, and industries\",\n",
    "    \"physics\": \"the branch of science concerned with the nature and properties of matter and energy\",\n",
    "    \"astronomy\": \"the branch of science that deals with celestial objects, space, and the physical universe as a whole\",\n",
    "    \"mathematics\": \"the abstract science of number, quantity, and space, either as abstract concepts (pure mathematics), or as applied to other disciplines such as physics and engineering (applied mathematics)\",\n",
    "}\n",
    "# Define a function to look up word meanings\n",
    "def lookup_word(word):\n",
    "    return dictionary.get(word.lower(), \"Sorry, we don't have this word in our dictionary yet!\")\n",
    "# Interactive loop\n",
    "while True:\n",
    "    print(\"\\nInteractive Dictionary\")\n",
    "    print(\"Enter a word to look up its meaning (type 'exit' to quit):\")\n",
    "    user_input = input(\"> \").lower().strip()  # Convert user input to lowercase for case-insensitive lookup\n",
    "    if user_input == 'exit':\n",
    "        print(\"Thanks for using this, bye!\")\n",
    "        break\n",
    "    meaning = lookup_word(user_input)\n",
    "    print(f\"Meaning: {meaning}\")"
   ]
  },
  {
   "cell_type": "markdown",
   "metadata": {},
   "source": [
    "# program with iteration: \n",
    "\n",
    "peer/chatgpt review\n",
    "- Variable Naming: Your variable names are clear and descriptive, which makes the code easy to understand. numbers, squared_numbers, and sum_of_squared_numbers all convey their respective purposes.\n",
    "\n",
    "- Commentary: Your code includes comments that explain each step, which is a good practice for enhancing code readability. However, there is some repetition in the comments, which can be reduced for brevity.\n",
    "\n",
    "- Efficiency: Your code effectively calculates the sum of squared numbers using iteration. However, you can simplify this process further by using Python's built-in sum() function\n",
    "\n",
    "- Whitespace: Ensure consistent spacing and indentation throughout your code. In Python, it's common to use four spaces for indentation. Your code appears to be formatted correctly in this regard.\n",
    "\n",
    "- Generalization: Currently, your code operates on a specific list of numbers [1, 2, 3, 4, 5]. To make the code more versatile and reusable, you can encapsulate this logic within a function that accepts a list of numbers as input.\n",
    "\n"
   ]
  },
  {
   "cell_type": "code",
   "execution_count": 8,
   "metadata": {},
   "outputs": [
    {
     "name": "stdout",
     "output_type": "stream",
     "text": [
      "Original Numbers: [1, 2, 3, 4, 5]\n",
      "Squared Numbers: [1, 4, 9, 16, 25]\n",
      "Sum of Squared Numbers: 55\n"
     ]
    }
   ],
   "source": [
    "# Program With Iteration\n",
    "### Step 1: Create a list of numbers\n",
    "numbers = [1, 2, 3, 4, 5]\n",
    "squared_numbers = []\n",
    "for num in numbers:\n",
    "    squared_numbers.append(num ** 2)\n",
    "### Step 3: Display the squared numbers\n",
    "print(\"Original Numbers:\", numbers)\n",
    "print(\"Squared Numbers:\", squared_numbers)\n",
    "### Step 4: Calculate the sum of squared numbers using iteration\n",
    "sum_of_squared_numbers = 0\n",
    "for num in squared_numbers:\n",
    "    sum_of_squared_numbers += num\n",
    "print(\"Sum of Squared Numbers:\", sum_of_squared_numbers)\n",
    "##In this example, we create a program with iteration using a for loop. We iterate through a list of numbers, square each number, display the squared numbers, and then calculate the sum of squared numbers using iteration. For loops are very useful in JavaScript."
   ]
  },
  {
   "cell_type": "markdown",
   "metadata": {},
   "source": [
    "# program with a funtion to perform mathermatical and/or statistical calculations: ALisha\n",
    "\n",
    "orignially the code was not workign because the curves quotationmarks were resulting in errors so we replaced them with the straght quotations. We also improved the division by zero handling, and added input validatino for user options"
   ]
  },
  {
   "cell_type": "code",
   "execution_count": 15,
   "metadata": {},
   "outputs": [
    {
     "name": "stdout",
     "output_type": "stream",
     "text": [
      "Options:\n",
      "Enter 'add' for addition\n",
      "Enter 'subtract' for subtraction\n",
      "Enter 'multiply' for multiplication\n",
      "Enter 'divide' for division\n",
      "Enter 'average' for average calculation\n",
      "Enter 'quit' to end the program\n",
      "Result: 5.0\n",
      "Options:\n",
      "Enter 'add' for addition\n",
      "Enter 'subtract' for subtraction\n",
      "Enter 'multiply' for multiplication\n",
      "Enter 'divide' for division\n",
      "Enter 'average' for average calculation\n",
      "Enter 'quit' to end the program\n"
     ]
    }
   ],
   "source": [
    "def add(x, y):\n",
    "    return x + y\n",
    "\n",
    "def subtract(x, y):\n",
    "    return x - y\n",
    "\n",
    "def multiply(x, y):\n",
    "    return x * y\n",
    "\n",
    "def divide(x, y):\n",
    "    if y == 0:\n",
    "        return \"Cannot divide by zero\"\n",
    "    return x / y\n",
    "\n",
    "def calculate_average(numbers):\n",
    "    if not numbers:\n",
    "        return \"No numbers provided\"\n",
    "    total = sum(numbers)\n",
    "    return total / len(numbers)\n",
    "\n",
    "while True:\n",
    "    print(\"Options:\")\n",
    "    print(\"Enter 'add' for addition\")\n",
    "    print(\"Enter 'subtract' for subtraction\")\n",
    "    print(\"Enter 'multiply' for multiplication\")\n",
    "    print(\"Enter 'divide' for division\")\n",
    "    print(\"Enter 'average' for average calculation\")\n",
    "    print(\"Enter 'quit' to end the program\")\n",
    "    user_input = input(\": \")\n",
    "\n",
    "    if user_input == \"quit\":\n",
    "        break\n",
    "\n",
    "    if user_input in [\"add\", \"subtract\", \"multiply\", \"divide\"]:\n",
    "        num1 = float(input(\"Enter first number: \"))\n",
    "        num2 = float(input(\"Enter second number: \"))\n",
    "        if user_input == \"add\":\n",
    "            print(\"Result:\", add(num1, num2))\n",
    "        elif user_input == \"subtract\":\n",
    "            print(\"Result:\", subtract(num1, num2))\n",
    "        elif user_input == \"multiply\":\n",
    "            print(\"Result:\", multiply(num1, num2))\n",
    "        elif user_input == \"divide\":\n",
    "            result = divide(num1, num2)\n",
    "            if isinstance(result, str):\n",
    "                print(result)\n",
    "            else:\n",
    "                print(\"Result:\", result)\n",
    "    elif user_input == \"average\":\n",
    "        num_list = input(\"Enter a list of numbers separated by spaces: \").split()\n",
    "        num_list = [float(num) for num in num_list]\n",
    "        print(\"Average:\", calculate_average(num_list))\n",
    "    else:\n",
    "        print(\"Invalid input. Please try again.\")\n"
   ]
  },
  {
   "cell_type": "markdown",
   "metadata": {},
   "source": [
    "# program with selection/condition: tara \n",
    "- Input Validation: You have added input validation to check if the input is a valid integer. This is good practice to handle potential errors when working with user inputs.\n",
    "\n",
    "- Consistency in Weights: Ensure that the weights for the political parties sum up to the total number of voters (1000 in your comment). Currently, they don't sum up to 1000, which may lead to incorrect results.\n",
    "\n",
    "- Handling Ties: Your code handles the case where no one wins. However, it doesn't handle the case where there is a tie between two parties. You might want to include logic to handle ties explicitly.\n",
    "\n",
    "- Comments: You have added comments to explain what each part of the code does, which is helpful for understanding. However, the comment about 1000 voters is incorrect because the number of voters is taken as user input. It should be updated accordingly.\n",
    "\n",
    "- Variable Names: The variable names are clear and descriptive, which is good for code readability.\n",
    "\n",
    "- Print Statements: The print statements provide useful information about the results and differences in votes. However, it's a good practice to format the output more clearly for better readability. For example, you can specify the winning party and the number of votes they won by more explicitly.\n",
    "\n"
   ]
  },
  {
   "cell_type": "code",
   "execution_count": 16,
   "metadata": {},
   "outputs": [
    {
     "name": "stdout",
     "output_type": "stream",
     "text": [
      "Counter({'Independent': 20, 'Democrat': 15, 'Republican': 15})\n",
      "Independent won by 5 votes, relative to Republican\n",
      "Independent won by 5 votes, relative to Democrat\n"
     ]
    }
   ],
   "source": [
    "import random\n",
    "from collections import Counter\n",
    "# Enter the number of voters\n",
    "voters = (input(\"Enter the number of voters\"))\n",
    "try:\n",
    "    # Convert input string to integer\n",
    "    numVoters = int(voters)\n",
    "    # List of political parties\n",
    "    mylist = [\"Democrat\", \"Republican\", \"Independent\"]\n",
    "    # Randoml select a political party using weights for 1000 voters\n",
    "    result = random.choices(mylist, weights = [980,940,1000], k = numVoters)\n",
    "    # count the results by political party and add to a dictionary\n",
    "    res = Counter(result)\n",
    "    print(res)\n",
    "    # Analyze the results by comparing the number of votes for each political party to  determine which party won and the difference in the number of votes\n",
    "    if res[\"Democrat\"] > res[\"Republican\"] and res[\"Democrat\"] > res[\"Independent\"]:\n",
    "        diffRep = res[\"Democrat\"] - res[\"Republican\"]\n",
    "        diffInd = res[\"Democrat\"] - res[\"Independent\"]\n",
    "        print(f\"Democrats won by {diffRep} votes, relative to Republican\" )\n",
    "        print(f\"Democrats won by {diffInd} votes, relative to Independent\" )\n",
    "    elif res[\"Republican\"] > res[\"Democrat\"] and res[\"Republican\"] > res[\"Independent\"]:\n",
    "        diffDem = res[\"Republican\"] - res[\"Democrat\"]\n",
    "        diffInd = res[\"Republican\"] - res[\"Independent\"]\n",
    "        print(f\"Republican won by {diffDem} votes, relative to Democrat\" )\n",
    "        print(f\"Republican won by {diffInd} votes, relative to Independent\" )\n",
    "    elif res[\"Independent\"] > res[\"Democrat\"] and res[\"Independent\"] > res[\"Republican\"]:\n",
    "        diffRep = res[\"Independent\"] - res[\"Republican\"]\n",
    "        diffDem = res[\"Independent\"] - res[\"Democrat\"]\n",
    "        print(f\"Independent won by {diffRep} votes, relative to Republican\" )\n",
    "        print(f\"Independent won by {diffDem} votes, relative to Democrat\" )\n",
    "    else:\n",
    "        print(\"No one won\")\n",
    "except ValueError:\n",
    "    print(\"Please enter an integer\")"
   ]
  },
  {
   "cell_type": "markdown",
   "metadata": {},
   "source": [
    "# program with purpose: tara \n",
    "\n",
    "peer/chatgpt review\n"
   ]
  },
  {
   "cell_type": "code",
   "execution_count": null,
   "metadata": {},
   "outputs": [],
   "source": []
  }
 ],
 "metadata": {
  "kernelspec": {
   "display_name": "Python 3",
   "language": "python",
   "name": "python3"
  },
  "language_info": {
   "codemirror_mode": {
    "name": "ipython",
    "version": 3
   },
   "file_extension": ".py",
   "mimetype": "text/x-python",
   "name": "python",
   "nbconvert_exporter": "python",
   "pygments_lexer": "ipython3",
   "version": "3.11.4"
  },
  "orig_nbformat": 4
 },
 "nbformat": 4,
 "nbformat_minor": 2
}
