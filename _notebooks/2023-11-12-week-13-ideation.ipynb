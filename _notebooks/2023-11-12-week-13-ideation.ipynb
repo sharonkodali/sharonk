{
 "cells": [
  {
   "cell_type": "markdown",
   "metadata": {},
   "source": [
    "---\n",
    "comments: true\n",
    "layout: post\n",
    "title: Ideation team \n",
    "type: tangibles\n",
    "courses: { compsci: {week: 13} }\n",
    "---"
   ]
  }
 ],
 "metadata": {
  "language_info": {
   "name": "python"
  },
  "orig_nbformat": 4
 },
 "nbformat": 4,
 "nbformat_minor": 2
}
