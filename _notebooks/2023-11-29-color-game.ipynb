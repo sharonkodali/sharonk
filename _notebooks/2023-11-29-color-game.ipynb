{
 "cells": [
  {
   "cell_type": "markdown",
   "metadata": {},
   "source": [
    "---\n",
    "comments: true\n",
    "layout: post\n",
    "title: Ideation for color game \n",
    "description: Binary project\n",
    "type: hacks\n",
    "courses: { compsci: {week: 15} }\n",
    "---"
   ]
  },
  {
   "cell_type": "markdown",
   "metadata": {},
   "source": [
    "- Randomize RGB value\n",
    "-  Convert RGB values to binary \n",
    "- display the binary values and RGB values to show what is going on in function \n",
    "- dislays the color that coresponds to the RGB value \n",
    "- user guesses the RGB value"
   ]
  }
 ],
 "metadata": {
  "language_info": {
   "name": "python"
  },
  "orig_nbformat": 4
 },
 "nbformat": 4,
 "nbformat_minor": 2
}
