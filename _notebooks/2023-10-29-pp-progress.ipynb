{
 "cells": [
  {
   "cell_type": "markdown",
   "metadata": {},
   "source": [
    "---\n",
    "comments: true\n",
    "layout: post\n",
    "title: Grocery progress\n",
    "type: hacks\n",
    "courses: { compsci: {week: 10} }\n",
    "---"
   ]
  },
  {
   "cell_type": "markdown",
   "metadata": {},
   "source": [
    "## accomplishments \n",
    "We started kind of late so it was hard to gert everything organized as we had lots of last minute changes. Initially I was planning on working on the login api but then I switched to work on the inventory as it was more important and intially no one in my group was doing much work \n",
    "\n",
    "- i initally found this very difficult because i couldnt find any online API that atched my goal and I didnt really know how to build my own\n",
    "- I then used the jokes api as a tempelate. I went line by line through the code in jokes.py and changed it to match the inventory i was making. \n"
   ]
  },
  {
   "cell_type": "markdown",
   "metadata": {},
   "source": [
    "## errors and struggles\n",
    "\n",
    "- I had a hard time figuring out what i needed to change to match my needs and what to keep \n",
    "- I ran into man erros because I wanted to be able to call from category and not just id like was shown in the jokes api \n",
    "- I also had errors deploying my site on aws so I decided to just use localhost \n",
    "- had to switch ports a few times \n",
    "- we struggled a lot on a specific error wehre it was giving us syntax errors but after going line by line i figured out the issue \n",
    "- im still having an issue deplying the endpoint api I made I dont know what is wrong it should be working there are no errors in the code. "
   ]
  }
 ],
 "metadata": {
  "language_info": {
   "name": "python"
  },
  "orig_nbformat": 4
 },
 "nbformat": 4,
 "nbformat_minor": 2
}
