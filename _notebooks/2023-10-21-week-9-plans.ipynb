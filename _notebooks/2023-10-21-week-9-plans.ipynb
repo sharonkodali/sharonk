{
 "cells": [
  {
   "cell_type": "markdown",
   "metadata": {},
   "source": [
    "---\n",
    "comments: true\n",
    "layout: post\n",
    "title: week 9 plans\n",
    "type: plans\n",
    "courses: { compsci: {week: 9} }\n",
    "---"
   ]
  },
  {
   "cell_type": "markdown",
   "metadata": {},
   "source": [
    "# Plans for week 9\n",
    "- start on homepage for the gorcery store\n",
    "- figure out moving background\n",
    "- deploy site on AWS\n",
    "- figure out postman\n",
    "- start on user login page for backend"
   ]
  },
  {
   "cell_type": "markdown",
   "metadata": {},
   "source": [
    "- complete boolean and condition questions\n",
    "- complete iteration team teach homework"
   ]
  }
 ],
 "metadata": {
  "language_info": {
   "name": "python"
  },
  "orig_nbformat": 4
 },
 "nbformat": 4,
 "nbformat_minor": 2
}
