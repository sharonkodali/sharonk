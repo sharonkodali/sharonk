{
 "cells": [
  {
   "cell_type": "markdown",
   "metadata": {},
   "source": [
    "---\n",
    "comments: true\n",
    "layout: post\n",
    "title: Data abstraction\n",
    "description: team teach 3.1 and 3.2\n",
    "type: hacks\n",
    "courses: { compsci: {week: 7} }\n",
    "---"
   ]
  },
  {
   "cell_type": "markdown",
   "metadata": {},
   "source": [
    "# 3.1.1 - What are variables \n",
    "## Sharon Kodali\n",
    "\n",
    "Variables: an abstraction inside a program that can hold a value \n",
    "\n",
    "A variable can be thought of as a container or a box that holds information that your program can use or modify \n",
    "\n",
    "Variables help you manage and organize your work with data, making your code more organized, readable, and adaptable. \n",
    "\n",
    "## different data types to store variables in\n",
    "- integer \n",
    "        used to store numbers that can later be used in mathematical operations\n",
    "        ex: age or temperature\n",
    "- Text(string)\n",
    "        Used to store texts lists and words that can later be referenced \n",
    "        ex: Name, phone number, or address\n",
    "-  Boolean\n",
    "        used to store simply of true or false\n",
    "        ex: is it raining\n",
    "\n",
    "\n",
    "## Correct way to name variables\n",
    "\n",
    "incorrect:\n",
    "    my highs-coreinthegame or n\n",
    "        - too long and can make the code messy \n",
    "        - dashes are not allowed when naming variables \n",
    "        - spaces are not allowed when naming variables \n",
    "        - descriptive enough to easily recall what the variable repersents\n",
    "\n",
    "correct:\n",
    "    highscore or numstudents or israining\n",
    "        - short \n",
    "        - descriptive\n",
    "        - easy to distingush type of variable\n"
   ]
  }
 ],
 "metadata": {
  "language_info": {
   "name": "python"
  },
  "orig_nbformat": 4
 },
 "nbformat": 4,
 "nbformat_minor": 2
}
