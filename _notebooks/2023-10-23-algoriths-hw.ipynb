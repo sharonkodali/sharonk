{
 "cells": [
  {
   "cell_type": "markdown",
   "metadata": {},
   "source": [
    "---\n",
    "comments: true\n",
    "layout: post\n",
    "title: Developing algorithms homework\n",
    "type: hacks\n",
    "courses: { compsci: {week: 9} }\n",
    "---"
   ]
  },
  {
   "cell_type": "markdown",
   "metadata": {},
   "source": [
    "## Homework hacks \n",
    "- Find the median test greade of a class \n",
    "- create a simple game using random numbers "
   ]
  },
  {
   "cell_type": "code",
   "execution_count": 3,
   "metadata": {},
   "outputs": [
    {
     "name": "stdout",
     "output_type": "stream",
     "text": [
      "the median test score is:, 89.5\n"
     ]
    }
   ],
   "source": [
    "scores = [89,78,69,93,98,100,97,85,89,90]\n",
    "scores.sort()\n",
    "n = len(scores)\n",
    "if n % 2 == 1:\n",
    "    median = scores[n//2]\n",
    "else:\n",
    "    mid1 = scores[n//2-1]\n",
    "    mid2 = scores[n//2]\n",
    "    median = (mid1 + mid2)/2\n",
    "\n",
    "print(f\"the median test score is:, {median}\")\n"
   ]
  },
  {
   "cell_type": "markdown",
   "metadata": {},
   "source": [
    " game using random numbers"
   ]
  },
  {
   "cell_type": "code",
   "execution_count": null,
   "metadata": {},
   "outputs": [],
   "source": [
    "import random\n",
    "\n",
    "# Generate a random number between 1 and 100\n",
    "secret_number = random.randint(1, 100)\n",
    "\n",
    "# Number of attempts\n",
    "attempts = 0\n",
    "\n",
    "print(\"Welcome to the Number Guessing Game!\")\n",
    "print(\"I'm thinking of a number between 1 and 100.\")\n",
    "\n",
    "while True:\n",
    "    try:\n",
    "        # Get the player's guess\n",
    "        guess = int(input(\"Enter your guess: \"))\n",
    "        attempts += 1\n",
    "\n",
    "        # Check if the guess is correct\n",
    "        if guess == secret_number:\n",
    "            print(f\"Congratulations! You've guessed the number {secret_number} in {attempts} attempts.\")\n",
    "            break\n",
    "        elif guess < secret_number:\n",
    "            print(\"Try a higher number.\")\n",
    "        else:\n",
    "            print(\"Try a lower number.\")\n",
    "\n",
    "    except ValueError:\n",
    "        print(\"Please enter a valid number.\")\n",
    "\n",
    "# End of the game\n"
   ]
  }
 ],
 "metadata": {
  "kernelspec": {
   "display_name": "Python 3",
   "language": "python",
   "name": "python3"
  },
  "language_info": {
   "codemirror_mode": {
    "name": "ipython",
    "version": 3
   },
   "file_extension": ".py",
   "mimetype": "text/x-python",
   "name": "python",
   "nbconvert_exporter": "python",
   "pygments_lexer": "ipython3",
   "version": "3.11.4"
  },
  "orig_nbformat": 4
 },
 "nbformat": 4,
 "nbformat_minor": 2
}
