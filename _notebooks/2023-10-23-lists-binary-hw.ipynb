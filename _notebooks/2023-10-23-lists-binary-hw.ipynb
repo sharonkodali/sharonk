{
 "cells": [
  {
   "cell_type": "markdown",
   "metadata": {},
   "source": [
    "---\n",
    "comments: true\n",
    "layout: post\n",
    "title: Lists ad search homework\n",
    "type: hacks\n",
    "courses: { compsci: {week: 9} }\n",
    "---"
   ]
  },
  {
   "cell_type": "markdown",
   "metadata": {},
   "source": [
    "1) Write an expression that uses list indexing and list procedures. Write comments on your code to show what each line is doing.\n",
    " 2) Write a python function that can determine the worst case number of iterations of a binary search for an array of length 20."
   ]
  },
  {
   "cell_type": "code",
   "execution_count": 1,
   "metadata": {},
   "outputs": [
    {
     "name": "stdout",
     "output_type": "stream",
     "text": [
      "The first flower is: Rose\n",
      "The last flower is: Sunflower\n",
      "Added Orchid to the list: ['Rose', 'Tulip', 'Lily', 'Daisy', 'Sunflower', 'Orchid']\n",
      "Inserted Carnation at index 2: ['Rose', 'Tulip', 'Carnation', 'Lily', 'Daisy', 'Sunflower', 'Orchid']\n",
      "Removed Lily from the list: ['Rose', 'Tulip', 'Carnation', 'Daisy', 'Sunflower', 'Orchid']\n",
      "Sorted list of flowers: ['Carnation', 'Daisy', 'Orchid', 'Rose', 'Sunflower', 'Tulip']\n",
      "Reversed list of flowers: ['Tulip', 'Sunflower', 'Rose', 'Orchid', 'Daisy', 'Carnation']\n"
     ]
    }
   ],
   "source": [
    "# Create a list of flowers\n",
    "flowers = [\"Rose\", \"Tulip\", \"Lily\", \"Daisy\", \"Sunflower\"]\n",
    "\n",
    "# Access the first flower in the list using list indexing\n",
    "first_flower = flowers[0]\n",
    "print(\"The first flower is:\", first_flower)\n",
    "\n",
    "# Access the last flower in the list using negative list indexing\n",
    "last_flower = flowers[-1]\n",
    "print(\"The last flower is:\", last_flower)\n",
    "\n",
    "# Add a new flower to the end of the list using the append() method\n",
    "flowers.append(\"Orchid\")\n",
    "print(\"Added Orchid to the list:\", flowers)\n",
    "\n",
    "# Insert a new flower at a specific position in the list using insert()\n",
    "flowers.insert(2, \"Carnation\")\n",
    "print(\"Inserted Carnation at index 2:\", flowers)\n",
    "\n",
    "# Remove a flower from the list by value using remove()\n",
    "flowers.remove(\"Lily\")\n",
    "print(\"Removed Lily from the list:\", flowers)\n",
    "\n",
    "# Sort the list in alphabetical order using sort()\n",
    "flowers.sort()\n",
    "print(\"Sorted list of flowers:\", flowers)\n",
    "\n",
    "# Reverse the order of the list using reverse()\n",
    "flowers.reverse()\n",
    "print(\"Reversed list of flowers:\", flowers)\n"
   ]
  },
  {
   "cell_type": "code",
   "execution_count": 2,
   "metadata": {},
   "outputs": [
    {
     "name": "stdout",
     "output_type": "stream",
     "text": [
      "5\n"
     ]
    }
   ],
   "source": [
    "import math\n",
    "\n",
    "def worst_case_binary_search_iterations(array_length):\n",
    "    iterations = math.ceil(math.log2(array_length))\n",
    "    return iterations\n",
    "array_length = 30\n",
    "print(worst_case_binary_search_iterations(array_length)) # Output the worst-case number of iterations\n"
   ]
  },
  {
   "cell_type": "markdown",
   "metadata": {},
   "source": [
    "the answer to problem 3 is A"
   ]
  }
 ],
 "metadata": {
  "kernelspec": {
   "display_name": "Python 3",
   "language": "python",
   "name": "python3"
  },
  "language_info": {
   "codemirror_mode": {
    "name": "ipython",
    "version": 3
   },
   "file_extension": ".py",
   "mimetype": "text/x-python",
   "name": "python",
   "nbconvert_exporter": "python",
   "pygments_lexer": "ipython3",
   "version": "3.11.4"
  },
  "orig_nbformat": 4
 },
 "nbformat": 4,
 "nbformat_minor": 2
}
