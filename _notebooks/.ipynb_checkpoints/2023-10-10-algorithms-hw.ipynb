{
 "cells": [
  {
   "cell_type": "markdown",
   "metadata": {},
   "source": [
    "---\n",
    "comments: true\n",
    "layout: post\n",
    "title: algorthim homework \n",
    "description: python program with input and output and explanation \n",
    "type: hacks\n",
    "courses: { compsci: {week: 7} }\n",
    "---"
   ]
  },
  {
   "cell_type": "markdown",
   "metadata": {},
   "source": [
    "## question 1: \n",
    "Write Python Code or Psuedo Code that is able to take a string as input and detect if its a palindrome"
   ]
  },
  {
   "cell_type": "code",
   "execution_count": null,
   "metadata": {},
   "outputs": [],
   "source": [
    "def is_palindrome(input_str):\n",
    "    lower = input+str.replace(\" \", \"\").lower()\n",
    "    reversed_str = lower[::-1]\n",
    "    return lower == reversed_str\n",
    "\n",
    "input_string = input('enter a string: ')\n",
    "\n",
    "if is_palindrome(input_string):\n",
    "    print('yes it is a palindrome')\n",
    "\n",
    "else:\n",
    "    print('no not a palindrome')"
   ]
  },
  {
   "cell_type": "markdown",
   "metadata": {},
   "source": [
    "# question 2: \n",
    "create a program that uses at least 1 of the algorithmic concepts covered in this notebook in a real world application\n"
   ]
  },
  {
   "cell_type": "code",
   "execution_count": null,
   "metadata": {},
   "outputs": [],
   "source": [
    "def sort_numbers(input_file, output_file):\n",
    "    with open(input_file, 'r') as f:\n",
    "        numbers = [int(line.strip()) for line in f]\n",
    "\n",
    "    numbers.sort()\n",
    "\n",
    "    with open(output_file, 'w') as f:\n",
    "        for number in numbers:\n",
    "            f.write(f\"{number}\\n\")\n",
    "\n",
    "    print(f\"Numbers have been sorted and saved to '{output_file}'.\")\n",
    "\n",
    "input_file = \"unsorted_numbers.txt\"\n",
    "output_file = \"sorted_numbers.txt\"\n",
    "\n",
    "sort_numbers(input_file, output_file)"
   ]
  }
 ],
 "metadata": {
  "language_info": {
   "name": "python"
  },
  "orig_nbformat": 4
 },
 "nbformat": 4,
 "nbformat_minor": 2
}
