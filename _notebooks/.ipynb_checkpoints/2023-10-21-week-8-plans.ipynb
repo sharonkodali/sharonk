{
 "cells": [
  {
   "cell_type": "markdown",
   "metadata": {},
   "source": [
    "---\n",
    "comments: true\n",
    "layout: post\n",
    "title: week 8 plans\n",
    "type: plans\n",
    "courses: { compsci: {week: 8} }\n",
    "---"
   ]
  },
  {
   "cell_type": "markdown",
   "metadata": {},
   "source": [
    "# plans\n",
    "- grade everyones homework from team teach \n",
    "- start working on grocery store and take notes on different languages that I need to learn "
   ]
  }
 ],
 "metadata": {
  "language_info": {
   "name": "python"
  },
  "orig_nbformat": 4
 },
 "nbformat": 4,
 "nbformat_minor": 2
}
