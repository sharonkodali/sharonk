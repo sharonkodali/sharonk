{
 "cells": [
  {
   "cell_type": "markdown",
   "metadata": {},
   "source": [
    "---\n",
    "comments: true\n",
    "layout: post\n",
    "title: week 6 plans\n",
    "description: plans for week 6\n",
    "type: plans\n",
    "courses: { compsci: {week: 6} }\n",
    "---"
   ]
  },
  {
   "cell_type": "markdown",
   "metadata": {},
   "source": [
    "# plans\n",
    "- look over web programming test \n",
    "-  do each of the hacks on each tab\n",
    "- ask teacher and classmates if need help and ake sure to collaborate \n"
   ]
  }
 ],
 "metadata": {
  "language_info": {
   "name": "python"
  },
  "orig_nbformat": 4
 },
 "nbformat": 4,
 "nbformat_minor": 2
}
