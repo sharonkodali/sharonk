{
 "cells": [
  {
   "cell_type": "markdown",
   "metadata": {},
   "source": [
    "---\n",
    "toc: true\n",
    "comments: true\n",
    "layout: post\n",
    "title: Digital Divide team teach\n",
    "courses: {compsci: {week: 15}}\n",
    "type: hacks\n",
    "---"
   ]
  },
  {
   "cell_type": "markdown",
   "metadata": {},
   "source": [
    "# Review Ticket: Digital divde \n",
    "\n",
    "Overall their presentation was engagin and easy to follow along with. I like how they went over important topics about the differences in recources in provelage in different areas of our world and how it impacts their growth and familiarity with technology. "
   ]
  },
  {
   "cell_type": "markdown",
   "metadata": {},
   "source": [
    "### Key points \n",
    "\n",
    "- Socioecenomic Variation: Different social and economic status group have varyign access to technolgy and are more familar with how to use it \n",
    "\n",
    "- Demographic: Different generations are more accustomed to the use of technology in their everyday life. Younger generations are more used to using technology and new apps than older generations since it may seem foreign to them \n",
    "\n",
    "- International disparities: Certain underdeveloped nations do not have as much acess to technology and the internet. Many people in our own neighborhood around is also dont have as much access as we do. \n",
    "    - ex: San Diego School District "
   ]
  },
  {
   "cell_type": "markdown",
   "metadata": {},
   "source": [
    "- Many organizations and government policies are working to bridging the digital divide by providing computers to people who do not have access ot them or simply raising money and recycling old electronics that are not used anymore. \n",
    "\n",
    "- Technoligy has become a crucuoal part of many of our lives, and those who do not have access to it from a young age have a obvious disadvantage in getting jobs or other oppurtunities presented to them. \n",
    "\n",
    "- Summary: Limited access to digital resources can create inequalities in groups, affecting participation in the digital economy and education. Bridging this gap needs collective efforts through humanitarian initiatives. Individually, challenges arise for those with restricted web access, impacting personal development, and choices like buying devices can unintentionally contribute to the divide."
   ]
  }
 ],
 "metadata": {
  "language_info": {
   "name": "python"
  },
  "orig_nbformat": 4
 },
 "nbformat": 4,
 "nbformat_minor": 2
}
