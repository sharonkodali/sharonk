{
 "cells": [
  {
   "cell_type": "markdown",
   "metadata": {},
   "source": [
    "---\n",
    "comments: true\n",
    "layout: post\n",
    "title: week 7 plans\n",
    "description: team teach 3.1 and 3.2\n",
    "type: plans\n",
    "courses: { compsci: {week: 7} }\n",
    "---"
   ]
  },
  {
   "cell_type": "markdown",
   "metadata": {},
   "source": [
    "# Plans\n",
    "- watch college board videos for 3.1.1\n",
    "- make sure everyone finishes their assigned videos and get a notebook together \n",
    "- get frontend design and uml chart ready for planning checkpoint"
   ]
  }
 ],
 "metadata": {
  "language_info": {
   "name": "python"
  },
  "orig_nbformat": 4
 },
 "nbformat": 4,
 "nbformat_minor": 2
}
