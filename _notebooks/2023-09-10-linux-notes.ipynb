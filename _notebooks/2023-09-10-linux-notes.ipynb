{
 "cells": [
  {
   "cell_type": "markdown",
   "metadata": {},
   "source": [
    "---\n",
    "comments: true\n",
    "layout: post\n",
    "title: linux notes\n",
    "description: Pair Showcase\n",
    "type: hacks\n",
    "courses: { compsci: {week: 3} }\n",
    "---"
   ]
  },
  {
   "cell_type": "markdown",
   "metadata": {},
   "source": [
    "## linux commands \n",
    "- ls: lists files and directories in the current directory \n",
    "- cd: change the current working directory \n",
    "- mdkir: create new directory \n",
    "- cp: copy files or directories \n",
    "- kill: terminate a running process \n",
    "- mv: move of renaame files or directories \n",
    "- ps: list runnign processes\n"
   ]
  },
  {
   "cell_type": "markdown",
   "metadata": {},
   "source": [
    "## what is linux \n",
    "\n",
    "- linux is an open source operating sysytem which measn that its source code is available for anyoen to view. Multiple users can run and work through linux simotaneosly. it is known for its stability and reliability. "
   ]
  }
 ],
 "metadata": {
  "language_info": {
   "name": "python"
  },
  "orig_nbformat": 4
 },
 "nbformat": 4,
 "nbformat_minor": 2
}
