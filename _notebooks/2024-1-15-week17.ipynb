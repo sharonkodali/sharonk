{
 "cells": [
  {
   "cell_type": "markdown",
   "metadata": {},
   "source": [
    "---\n",
    "toc: true\n",
    "comments: true\n",
    "layout: post\n",
    "title: Week 17 review \n",
    "description: \n",
    "courses: {'compsci': {'week': 17}}\n",
    "type: tabgibles\n",
    "---"
   ]
  },
  {
   "cell_type": "markdown",
   "metadata": {},
   "source": [
    "### What i worked on this week \n",
    "- This week we mainly worked in new CPT groups \n",
    "- I started off this week by working on an initial ideation in class, I though of ideas like making a volunteering program and an assistant AI idea generation for essay writing \n",
    "- I also read through other peoples ideation and got new ideas \n",
    "- I worked on my team tach crossover score table and averages out all the scores with my tangibles \n",
    "- Then i worked on my CPT ideation with my table, we brainstomed different ideas and talked about each of our strengths and weaknesses. "
   ]
  }
 ],
 "metadata": {
  "language_info": {
   "name": "python"
  },
  "orig_nbformat": 4
 },
 "nbformat": 4,
 "nbformat_minor": 2
}
