{
 "cells": [
  {
   "cell_type": "markdown",
   "metadata": {},
   "source": [
    "---\n",
    "toc: False\n",
    "layout: post\n",
    "hide: False\n",
    "title: CS Blog\n",
    "description: college board test\n",
    "courses: {'compsci': {'week': 14}}\n",
    "type: tangibles\n",
    "---"
   ]
  },
  {
   "cell_type": "markdown",
   "metadata": {},
   "source": [
    "## Score: 52/67\n",
    "\n",
    "Overall, I think I did improve from last trimester, although Im not completely happy with my score ai can definitely say I understood a lot more of the questions better and the new material we learned so far was a lot easier to understand than the ones from last trimester. Im pretty confident about binary, and the different team teaches we went over this trimester but I should definitely work on reviewing the concepts from last trimeter like booleam, expression, and consitionals"
   ]
  },
  {
   "cell_type": "markdown",
   "metadata": {},
   "source": [
    "- Question 2: Citizen science for wildlife research \n",
    "  - I put A and it is wrong because work may be distributed to amateur or nonprofessional individuals, who are not likely to have the same accuracy as the professional researchers.\n",
    "  - D is correct citizen science involves members of the general public participating in scientific research. Distributing the image analysis work to a larger group of individuals allows the work to be completed in less time."
   ]
  },
  {
   "cell_type": "markdown",
   "metadata": {},
   "source": [
    "- Question 5: Inputs to logic circuit\n",
    "    - I got this one wrong because D only has one input which causees the circuit output to be false. C, has second and gate input which is true, so this would cause the circut output to also be true.\n"
   ]
  },
  {
   "cell_type": "markdown",
   "metadata": {},
   "source": [
    "- Question 11: Color represented by binary triplet\n",
    "    - I made a small mistake on this bnary question. The binary RGB triplet for light yellow is (11111111, 11111111, 11100000)."
   ]
  },
  {
   "cell_type": "markdown",
   "metadata": {},
   "source": [
    "- Question 19: Observe user growth \n",
    "    - I read the data wrong for this question. The number number of registered users appears to have doubled each year for years 1 to 5, the number of registered users grew at a roughly constant rate for years 5 to 8."
   ]
  },
  {
   "cell_type": "markdown",
   "metadata": {},
   "source": [
    "- Question 20: Average amount of data per user \n",
    "    - I read the sata wrong same as the question before, The two line graphs are roughly the same shape. Each value on the right line graph is about 10 times the corresponding value on the left line graph. Therefore, the average amount of data stored per user is about 10 GB."
   ]
  },
  {
   "cell_type": "markdown",
   "metadata": {},
   "source": [
    "- Question 23: Flowchart to set available \n",
    "    - I chose answer B which is incorrect because this algorith means that the agorithm sets available to true whenever weekday is true and miles is at least 20. "
   ]
  },
  {
   "cell_type": "markdown",
   "metadata": {},
   "source": [
    "Question 53: \n",
    "\n",
    "- For this one, I picked the option that seems the most effienct in finidng the pet, which is a location tracker. Though I missed the part that describes it as a crowdsourcing system. Thats why the best option would be the app that allows locals to post/report about missing pets, since this is more focused for local areas and uses the help of other people."
   ]
  },
  {
   "cell_type": "markdown",
   "metadata": {},
   "source": [
    "Question 58: \n",
    "- I chose answer A which is but he IF condition x = y evaluates to false, so the body of the ELSE statement is executed. The expression y = z evaluates to false, so false is returned as intended. Answer C is correct the IF condition x = y evaluates to false, so the body of the ELSE statement is executed. The expression y = z evaluates to false, so false is returned."
   ]
  },
  {
   "cell_type": "markdown",
   "metadata": {},
   "source": [
    "Question 64: Error with multiplication using repeated addition\n",
    "-  The answer to this is B and D but I chose B and D. D is correct beacause since y is initially negative, the loop condition count ≥ y is initially true, so the body of the loop is never executed and 0 is returned."
   ]
  },
  {
   "cell_type": "markdown",
   "metadata": {},
   "source": [
    "Question 67: \n",
    "- The correct asnwer is B and A, and not D. A is correct because count is increased to 1 the first time \"birch\" is encountered in the list. However, count is reset to 0 when the code segment moves to the next list element. The last time \"birch\" is encountered in the list, count is again increased to 1, causing the procedure to return 1 instead of the intended result 2."
   ]
  },
  {
   "cell_type": "markdown",
   "metadata": {},
   "source": [
    "## Overall review and key points \n",
    "- I went through the big idea videos on college board, and I took notes on a lot of the team teaches that were presented before which hekped me prepare for this quiz. \n",
    "- I learned a lot about calculating binary, and hexadecimal. "
   ]
  }
 ],
 "metadata": {
  "language_info": {
   "name": "python"
  },
  "orig_nbformat": 4
 },
 "nbformat": 4,
 "nbformat_minor": 2
}
