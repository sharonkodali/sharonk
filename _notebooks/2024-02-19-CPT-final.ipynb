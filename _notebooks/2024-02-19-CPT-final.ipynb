{
 "cells": [
  {
   "cell_type": "markdown",
   "metadata": {},
   "source": [
    "---\n",
    "toc: true\n",
    "comments: true\n",
    "layout: post\n",
    "title: N@TM Blog \n",
    "description: \n",
    "courses: {'compsci': {'week': 17}}\n",
    "type: hacks \n",
    "---"
   ]
  },
  {
   "cell_type": "markdown",
   "metadata": {},
   "source": [
    "CPT Requirements | Explanation\n",
    "-- | --\n",
    "Instructions for input from one of the following: the user, a device, an online datas stream, a file. | In my feature the user input from the 'favorites' tab will then later be marked on the map. I also have user input that when the the user clicks on a certain marker on the map it will be redirected to the page with details of the map\n",
    "Use of at least one list (or other collection type) to represent a collectino of data that is stored and used to manage program complexity and help fulfill the users purpose.| I use a list of all the houses in our database which is marked on the map \n",
    "At least one procedure that contirubted to the program’s intened purpose where you have defined: the name, return type, one or more parameters: | My feature uses Fetch to return information from our database into the list. \n",
    "An algorithm that includes sequencing, selection, and iteration that is in the body of the selected procedure | I am not finished but currently working on incorporating an algorithm. ( try to collaborate with alisha to incorporate the favorites element.\n",
    "Instructions for output based on input | If the user clicks on a place on the map that is not a marker or then error message is displayed. User input is also obtained from what houses the uses adds to their favorites. Succecful click results in succesful display fo address of house and longitude and latitude of the house.\n"
   ]
  }
 ],
 "metadata": {
  "language_info": {
   "name": "python"
  },
  "orig_nbformat": 4
 },
 "nbformat": 4,
 "nbformat_minor": 2
}
