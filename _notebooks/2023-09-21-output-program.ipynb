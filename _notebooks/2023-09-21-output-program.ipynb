{
 "cells": [
  {
   "cell_type": "markdown",
   "metadata": {},
   "source": [
    "---\n",
    "comments: true\n",
    "layout: post\n",
    "title: program with input and ouput\n",
    "description: python program with input and output and explanation \n",
    "type: hacks\n",
    "courses: { compsci: {week: 5} }\n",
    "---"
   ]
  },
  {
   "cell_type": "code",
   "execution_count": null,
   "metadata": {},
   "outputs": [],
   "source": [
    "#ask user for their original temperature in farenheit \n",
    "#use  'int' to store a numerical value\n",
    "f=int(input('what is your temperatire in farenheit? '))\n",
    "#convert farnheit to celcius using mathematical operation\n",
    "#equation is Temperature(°C) = (Temperature in°F) - 32) × 5/9\n",
    "c=(f-32)*(5/9)\n",
    "#print output to user\n",
    "print('this is your temperature in celcius ',c)"
   ]
  }
 ],
 "metadata": {
  "language_info": {
   "name": "python"
  },
  "orig_nbformat": 4
 },
 "nbformat": 4,
 "nbformat_minor": 2
}
