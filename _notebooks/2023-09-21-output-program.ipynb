{
 "cells": [
  {
   "cell_type": "markdown",
   "metadata": {},
   "source": [
    "---\n",
    "comments: true\n",
    "layout: post\n",
    "title: program with input and ouput\n",
    "description: python program with input and output and explanation \n",
    "type: hacks\n",
    "courses: { compsci: {week: 5} }\n",
    "---"
   ]
  },
  {
   "cell_type": "markdown",
   "metadata": {},
   "source": [
    "# what is an input and output\n",
    "\n",
    "- A function with an input and output reciepvs data or information from ecternal sources such as the keyboard and then then the output displays or presents the data onto the screen tpically using the print() function"
   ]
  },
  {
   "cell_type": "code",
   "execution_count": null,
   "metadata": {},
   "outputs": [],
   "source": [
    "#ask user for their original temperature in farenheit \n",
    "#use  'int' to store a numerical value\n",
    "f=int(input('what is your temperatire in farenheit? '))\n",
    "#convert farnheit to celcius using mathematical operation\n",
    "#equation is Temperature(°C) = (Temperature in°F) - 32) × 5/9\n",
    "c=(f-32)*(5/9)\n",
    "#print output to user\n",
    "print('this is your temperature in celcius ',c)\n",
    "\n",
    "#celcius to farenheit conversion\n",
    "m=int(input('what is your temperature in celcius? '))\n",
    "n=(m*(9/5)+32)\n",
    "print('this is your temperature in farenheit ',n)"
   ]
  }
 ],
 "metadata": {
  "language_info": {
   "name": "python"
  },
  "orig_nbformat": 4
 },
 "nbformat": 4,
 "nbformat_minor": 2
}
