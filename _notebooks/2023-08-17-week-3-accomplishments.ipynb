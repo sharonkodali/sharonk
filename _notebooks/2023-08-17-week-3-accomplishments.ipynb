{
 "cells": [
  {
   "cell_type": "markdown",
   "metadata": {},
   "source": [
    "---\n",
    "toc: true\n",
    "comments: true\n",
    "layout: post\n",
    "title: Week 3 accomplishments\n",
    "description: What I got done in week 3!\n",
    "courses: { compsci: {week: 3} }\n",
    "type: tangibles\n",
    "---"
   ]
  },
  {
   "cell_type": "markdown",
   "metadata": {},
   "source": [
    "# timezone converter (python)\n",
    "- we had to figure out which libraries to, we started out with just pytz but then relized it was not sufficient. \n",
    "- the timezone converter may not be accounting for daylight savings \n",
    "- large list of timezones might be harder for user to navigate \n",
    "- had to thorougly research python but aldo asked chatgpt for help"
   ]
  },
  {
   "cell_type": "markdown",
   "metadata": {},
   "source": [
    "# javascript timezone converter map\n",
    "## https://developers.google.com/maps/documentation/javascript/overview#maps_map_simple-javascript\n",
    "- This is where we acessed the google API for the map\n",
    "- input:click of mouse  output: longitude and lattitude\n",
    "- after this step the code makes a call to the time zone API using longitude and latitude values collected from the map API. Then the local timezone of that area is displayed. \n",
    "- input: longitude and latitude output: timezone infromation and local time\n",
    "\n",
    "- hard tofind what API to use and how to navigate through JavaScript "
   ]
  },
  {
   "cell_type": "markdown",
   "metadata": {},
   "source": [
    "# general errrors and problems this week \n",
    "\n",
    "- I had to make a new repository because my od one crashed, still having to run local as there are a few errors with my new repository, still trying to fix it \n",
    "- had to redo a few files as they were not trandporting to my new repository \n",
    "- had trouble uing many linux commands but used chatgpt to figure out what the problem was\n",
    "- I initisally had a hard time getting the google API onto my blog but had to make a few changes to make is transfer"
   ]
  }
 ],
 "metadata": {
  "language_info": {
   "name": "python"
  },
  "orig_nbformat": 4
 },
 "nbformat": 4,
 "nbformat_minor": 2
}
