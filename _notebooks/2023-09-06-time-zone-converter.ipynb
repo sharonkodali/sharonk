{
 "cells": [
  {
   "cell_type": "markdown",
   "metadata": {},
   "source": [
    "---\n",
    "toc: true\n",
    "comments: true\n",
    "layout: post\n",
    "title: Time zone converter\n",
    "description: pair showcase\n",
    "courses: { compsci: {week: 3} }\n",
    "type: hacks\n",
    "---"
   ]
  },
  {
   "cell_type": "code",
   "execution_count": 2,
   "metadata": {},
   "outputs": [
    {
     "name": "stdout",
     "output_type": "stream",
     "text": [
      "Time zone converter\n"
     ]
    }
   ],
   "source": [
    "print('Time zone converter')\n",
    "import pytz\n",
    "from datetime import datetime\n",
    "\n",
    "a= input('Enter the original time zone')\n",
    "b= input('What time zone do you want to convert to? ')\n",
    "c= input('Enter the date and time (YYY-MM-DD HH:MM:SS) ')\n",
    "\n",
    "original timezone = pytz.timezone"
   ]
  },
  {
   "cell_type": "code",
   "execution_count": 5,
   "metadata": {},
   "outputs": [
    {
     "ename": "ModuleNotFoundError",
     "evalue": "No module named 'pytz'",
     "output_type": "error",
     "traceback": [
      "\u001b[0;31m---------------------------------------------------------------------------\u001b[0m",
      "\u001b[0;31mModuleNotFoundError\u001b[0m                       Traceback (most recent call last)",
      "Cell \u001b[0;32mIn[5], line 2\u001b[0m\n\u001b[1;32m      1\u001b[0m \u001b[39mimport\u001b[39;00m \u001b[39mdatetime\u001b[39;00m\n\u001b[0;32m----> 2\u001b[0m \u001b[39mimport\u001b[39;00m \u001b[39mpytz\u001b[39;00m\n\u001b[1;32m      4\u001b[0m \u001b[39mdef\u001b[39;00m \u001b[39mconvert_time\u001b[39m(input_time, input_timezone, output_timezone):\n\u001b[1;32m      5\u001b[0m     \u001b[39m# Create datetime object with input time and input timezone\u001b[39;00m\n\u001b[1;32m      6\u001b[0m     input_time \u001b[39m=\u001b[39m pytz\u001b[39m.\u001b[39mtimezone(input_timezone)\u001b[39m.\u001b[39mlocalize(input_time)\n",
      "\u001b[0;31mModuleNotFoundError\u001b[0m: No module named 'pytz'"
     ]
    }
   ],
   "source": [
    "import datetime\n",
    "import pytz\n",
    "\n",
    "def convert_time(input_time, input_timezone, output_timezone):\n",
    "    # Create datetime object with input time and input timezone\n",
    "    input_time = pytz.timezone(input_timezone).localize(input_time)\n",
    "\n",
    "    # Convert to the output timezone\n",
    "    output_time = input_time.astimezone(pytz.timezone(output_timezone))\n",
    "\n",
    "    return output_time\n",
    "\n",
    "if __name__ == \"__main__\":\n",
    "    try:\n",
    "        # Get input time from the user\n",
    "        input_time_str = input(\"Enter input time (YYYY-MM-DD HH:MM:SS): \")\n",
    "        input_time = datetime.datetime.strptime(input_time_str, \"%Y-%m-%d %H:%M:%S\")\n",
    "\n",
    "        # Get input and output timezones from the user\n",
    "        input_timezone = input(\"Enter input timezone (e.g., 'US/Pacific'): \")\n",
    "        output_timezone = input(\"Enter output timezone (e.g., 'Europe/London'): \")\n",
    "\n",
    "        # Convert and display the result\n",
    "        result = convert_time(input_time, input_timezone, output_timezone)\n",
    "        print(f\"Converted time: {result.strftime('%Y-%m-%d %H:%M:%S %Z')}\")\n",
    "\n",
    "    except ValueError as e:\n",
    "        print(f\"Error: {e}\")\n"
   ]
  },
  {
   "cell_type": "markdown",
   "metadata": {},
   "source": [
    "# time zone converter plan to send to teachers\n",
    "\n",
    "- interactive "
   ]
  }
 ],
 "metadata": {
  "kernelspec": {
   "display_name": "Python 3",
   "language": "python",
   "name": "python3"
  },
  "language_info": {
   "codemirror_mode": {
    "name": "ipython",
    "version": 3
   },
   "file_extension": ".py",
   "mimetype": "text/x-python",
   "name": "python",
   "nbconvert_exporter": "python",
   "pygments_lexer": "ipython3",
   "version": "3.9.6"
  },
  "orig_nbformat": 4
 },
 "nbformat": 4,
 "nbformat_minor": 2
}
