{
 "cells": [
  {
   "cell_type": "markdown",
   "metadata": {},
   "source": []
  },
  {
   "cell_type": "markdown",
   "metadata": {},
   "source": [
    "---\n",
    "toc: true\n",
    "comments: true\n",
    "layout: post\n",
    "title: Week 16 review\n",
    "description: \n",
    "courses: {'compsci': {'week': 16}}\n",
    "type: tangibles\n",
    "---"
   ]
  },
  {
   "cell_type": "markdown",
   "metadata": {},
   "source": [
    "### WHAT I WORKED ON THIS WEEK\n",
    "- finished up the College board MC\n",
    "- worked on my review\n",
    "- researched different topics throughout the review \n",
    "- We started to find new groups this week for the CPT project\n",
    "- We did our review with Mr. Mortenson for the binary project\n",
    "- We made an issues table with each of our videos and, crossover score, and tangibles\n",
    "- I was alos the scrum master for my team so I reviewed another teams scrum master and also did an individual peer review. "
   ]
  }
 ],
 "metadata": {
  "language_info": {
   "name": "python"
  },
  "orig_nbformat": 4
 },
 "nbformat": 4,
 "nbformat_minor": 2
}
