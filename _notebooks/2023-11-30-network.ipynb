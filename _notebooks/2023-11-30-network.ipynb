{
 "cells": [
  {
   "cell_type": "markdown",
   "metadata": {},
   "source": [
    "---\n",
    "comments: true\n",
    "layout: post\n",
    "title: The network\n",
    "description: Binary project\n",
    "type: hacks\n",
    "courses: { compsci: {week: 15} }\n",
    "---"
   ]
  },
  {
   "cell_type": "markdown",
   "metadata": {},
   "source": [
    "Computing: the use of operation of computers\n",
    "- hardware and software systems\n",
    "- sequencial, parallel, and distributive computing \n",
    "- sequencial: works on a task one at a time, depends on the task before it, time is sum of all individual tasks\n",
    "- parallel: schedules tasks to run at the same time, done at the sam time, uses a lot more recources, but a lot more fast than sequencial\n",
    "- distrubituve: sending to other computers to shorten the time. Uses a network\n"
   ]
  },
  {
   "cell_type": "markdown",
   "metadata": {},
   "source": [
    "popcorn hack #3\n",
    "\n",
    "1. Sequential\n",
    "2. Distributive \n",
    "3. Parallel"
   ]
  },
  {
   "cell_type": "markdown",
   "metadata": {},
   "source": [
    "Homework: google form - 14 questions "
   ]
  }
 ],
 "metadata": {
  "language_info": {
   "name": "python"
  },
  "orig_nbformat": 4
 },
 "nbformat": 4,
 "nbformat_minor": 2
}
