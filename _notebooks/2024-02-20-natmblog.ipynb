{
 "cells": [
  {
   "cell_type": "markdown",
   "metadata": {},
   "source": [
    "---\n",
    "toc: true\n",
    "comments: true\n",
    "layout: post\n",
    "title: N@TM Blog \n",
    "description: \n",
    "courses: {'compsci': {'week': 17}}\n",
    "type: hacks\n",
    "---"
   ]
  },
  {
   "cell_type": "markdown",
   "metadata": {},
   "source": [
    "## [Issue for Depths and Details extra credit ](https://github.com/Real-Estate-Analyzation/RealEstateFrontend/issues/17)"
   ]
  },
  {
   "cell_type": "markdown",
   "metadata": {},
   "source": [
    "## Blog on team demo\n",
    "\n",
    "- relfelction on glows/grows from your demo\n",
    "    - Overall I think our demo went really well, a lot of our family anf freinds with different background in computer science were there and we were effectively able to explain our project and answer any questions other people had. Everyone in the team had really good understanding of the project as a whole and we were all able to effectively present our project no matter what feature people had questions on. We adjusted our presentation based on our audience for example when people in CSA wanted to view our projet we made sure to go over the inspect and show them the cookie and also we plugged it into jwt.io to decode it. \n",
    "    - Grows: In the future, I think we could do a better job of communicating with some of our teamates. Since our groups were new it was sometimes hard to efficiently commuincate our ideas and any changed to new group members. I think integration and complete collaboration is very important when working on a team and it is something I will continue to work on no matter how new the situation may be. \n",
    "\n",
    "- Feedback: \n",
    "    For my individual CPT project I want to add a ore customizable map where people can only view the houses that are in their favorites. I also want to add redirections in the map so when people click on a marker they can be redirected to the page on our website with the full details of that house. \n"
   ]
  },
  {
   "cell_type": "markdown",
   "metadata": {},
   "source": [
    "## Blog on event\n",
    "- Compsci: \n",
    " - As I walked around and had the chance to view other peoples prokects, a project that i really liked was Josh, Brandon, Ninaad, and Daniels project from CSP. I really liked their design that they included in the game. It was very aesthetically pleasing and seemed like I was actually on a video gae website. I want to learn more about styling in general, escpecially for games, because you can create so many fun things!\n",
    " - I had really fun time walkg around and seeing what my friends from different classes were working on and it was not only inspiring but I also felt proud to see how much everyone did. \n",
    "\n",
    "- After looking at the CS projects I also had time to walk around and look at differnt htings from N@TM. i specifically liked looking around the pottery and I also liked the photography classroom. Photography has always been soething Ive loved and its a class I want to take next year so it was nice to look around. \n",
    "\n",
    "\n",
    "\n",
    "\n"
   ]
  },
  {
   "cell_type": "markdown",
   "metadata": {},
   "source": [
    "## Pictures!\n",
    "\n"
   ]
  },
  {
   "cell_type": "markdown",
   "metadata": {},
   "source": [
    "\n",
    "\n",
    "<image src='https://media.discordapp.net/attachments/1086819477204766761/1210827282353229834/IMG_8639.jpeg?ex=65ebf9c8&is=65d984c8&hm=ed2048d6431a3a2cd4bd7a5dbc2da38edc725becb6cdce3a16086f171d20913c&=&format=webp&width=1720&height=1290'>\n",
    "\n",
    "<image src='https://media.discordapp.net/attachments/1086819477204766761/1210827039658082305/IMG_3216.jpeg?ex=65ebf98e&is=65d9848e&hm=a7c3b3bc0d19413dc1fe321e77cbad8e66967682040e88f819296a1c351a8694&=&format=webp&width=968&height=1290'>\n",
    "\n",
    "<image src='https://media.discordapp.net/attachments/1086819477204766761/1210825584402374706/IMG_8647.jpeg?ex=65ebf833&is=65d98333&hm=a6b16986302118d267c44d0317f26fac8fd0654b727ae9734f3b471c1da85c8e&=&format=webp&width=1720&height=1290'>\n",
    "\n",
    "\n",
    "<image src='https://media.discordapp.net/attachments/1086819477204766761/1210825576588382219/IMG_9203.JPG?ex=65ebf831&is=65d98331&hm=cbcc31ab4d855a950aa65f447585ffac983a91547fd68082f9abba76dadfc3a9&=&format=webp&width=1720&height=1290'>\n",
    "\n",
    "<image src='https://media.discordapp.net/attachments/1086819477204766761/1210825566530572328/IMG_4968.jpeg?ex=65ebf82f&is=65d9832f&hm=2df8db6184bf9b311ac22190b6255296f79e060488fdf04ed46eb3d40b0cf6f4&=&format=webp&width=1720&height=1290'>\n",
    "\n"
   ]
  }
 ],
 "metadata": {
  "language_info": {
   "name": "python"
  },
  "orig_nbformat": 4
 },
 "nbformat": 4,
 "nbformat_minor": 2
}
