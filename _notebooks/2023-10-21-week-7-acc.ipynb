{
 "cells": [
  {
   "cell_type": "markdown",
   "metadata": {},
   "source": [
    "---\n",
    "comments: true\n",
    "layout: post\n",
    "title: Week 7 accomplishments\n",
    "type: tangibles\n",
    "courses: { compsci: {week: 7} }\n",
    "---"
   ]
  },
  {
   "cell_type": "markdown",
   "metadata": {},
   "source": [
    "## what I got done in week 7\n",
    "- The presentation went well for the most part we went first so we didnt really know what to expect but we made sure to ask the teachers questions so we could do as best as we could. \n",
    "- I worked on the front end design for our grocery store project using canva \n",
    "\n",
    "## improvements for next time\n",
    "- certain people in our group were not ready at all for our presentation and we had to help them finish their part in class right before we started so next time I want to make sure that we communicate better and lay out consequences for people who do not do their work.\n",
    "- no matter how many times I asked people to respond no one worked on our plan except me alisha and tara which was really frustrating "
   ]
  }
 ],
 "metadata": {
  "language_info": {
   "name": "python"
  },
  "orig_nbformat": 4
 },
 "nbformat": 4,
 "nbformat_minor": 2
}
