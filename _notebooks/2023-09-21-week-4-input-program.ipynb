{
 "cells": [
  {
   "cell_type": "markdown",
   "metadata": {},
   "source": [
    "---\n",
    "comments: true\n",
    "layout: post\n",
    "title: input program\n",
    "description: team test and what i did week 4 \n",
    "type: hacks\n",
    "courses: { compsci: {week: 5} }\n",
    "---"
   ]
  },
  {
   "cell_type": "markdown",
   "metadata": {},
   "source": [
    "# what is an input function\n",
    "- the input function is ised to recieve input from the user, and then allows you to prompt the user for input which is then trned into a string. You must assign it to a variable and then the input will be stoeed as a strong in the variable"
   ]
  },
  {
   "cell_type": "code",
   "execution_count": 4,
   "metadata": {},
   "outputs": [
    {
     "name": "stdout",
     "output_type": "stream",
     "text": [
      "Hello Sharon!!\n"
     ]
    }
   ],
   "source": [
    "#ask the user their age, store using the variable 'name'\n",
    "name=input('What is your name? ')\n",
    "\n",
    "#display the name or input for the user to see as a greeting\n",
    "print('Hello '+ name + '!!')"
   ]
  }
 ],
 "metadata": {
  "kernelspec": {
   "display_name": "Python 3",
   "language": "python",
   "name": "python3"
  },
  "language_info": {
   "codemirror_mode": {
    "name": "ipython",
    "version": 3
   },
   "file_extension": ".py",
   "mimetype": "text/x-python",
   "name": "python",
   "nbconvert_exporter": "python",
   "pygments_lexer": "ipython3",
   "version": "3.11.4"
  },
  "orig_nbformat": 4
 },
 "nbformat": 4,
 "nbformat_minor": 2
}
